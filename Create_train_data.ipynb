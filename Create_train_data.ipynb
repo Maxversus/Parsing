{
 "cells": [
  {
   "cell_type": "code",
   "execution_count": 109,
   "metadata": {},
   "outputs": [
    {
     "name": "stdout",
     "output_type": "stream",
     "text": [
      "нет даты\n",
      "нет даты\n",
      "нет даты\n",
      "нет даты\n",
      "нет даты\n",
      "нет даты\n",
      "нет даты\n"
     ]
    }
   ],
   "source": [
    "import csv\n",
    "import json\n",
    "data = {}\n",
    "with open(\"data.json\", \"r\", encoding=\"utf-8\") as file:\n",
    "    re = json.load(file)\n",
    "\n",
    "with open(\"true.csv\", \"r\", encoding=\"utf-8\", newline='') as file:\n",
    "    reader = csv.reader(file,)\n",
    "    for i in reader:\n",
    "        try:\n",
    "            data[i[0]] = re[i[0]]\n",
    "                    \n",
    "        except Exception as ex:\n",
    "            print(\"нет даты\")\n",
    "        \n",
    "with open(\"true_data.json\", \"w\", encoding=\"utf-8\") as file:\n",
    "    json.dump(data , file, indent=4, ensure_ascii=False)   \n",
    "       \n",
    "\n"
   ]
  },
  {
   "cell_type": "code",
   "execution_count": null,
   "metadata": {},
   "outputs": [],
   "source": [
    "with open (\"data.csv\", \"a\", encoding=\"utf-8\") as file:\n",
    "                    writer = csv.writer(file)\n",
    "                    writer.writerow(\n",
    "                        (\n",
    "                            \n",
    "                        )\n",
    "                    )"
   ]
  }
 ],
 "metadata": {
  "kernelspec": {
   "display_name": ".venv",
   "language": "python",
   "name": "python3"
  },
  "language_info": {
   "codemirror_mode": {
    "name": "ipython",
    "version": 3
   },
   "file_extension": ".py",
   "mimetype": "text/x-python",
   "name": "python",
   "nbconvert_exporter": "python",
   "pygments_lexer": "ipython3",
   "version": "3.10.9"
  },
  "orig_nbformat": 4
 },
 "nbformat": 4,
 "nbformat_minor": 2
}
