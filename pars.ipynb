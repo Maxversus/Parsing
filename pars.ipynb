{
 "cells": [
  {
   "cell_type": "code",
   "execution_count": null,
   "metadata": {},
   "outputs": [],
   "source": [
    "from bs4 import BeautifulSoup\n",
    "import requests\n",
    "import csv\n",
    "from selenium import webdriver"
   ]
  },
  {
   "cell_type": "code",
   "execution_count": null,
   "metadata": {},
   "outputs": [],
   "source": [
    "url = \"https://quote.rbc.ru/tag/Gold\"\n",
    "header = {\n",
    "    \"Accept\": \"*/*\",\n",
    "    \"user-agent\": \"Mozilla/5.0 (Windows NT 10.0; Win64; x64) AppleWebKit/537.36 (KHTML, like Gecko) Chrome/110.0.0.0 Safari/537.36\"\n",
    "}\n",
    "req = requests.get(url, headers=header)\n",
    "src = req.text\n",
    "print(src)"
   ]
  },
  {
   "cell_type": "code",
   "execution_count": null,
   "metadata": {},
   "outputs": [],
   "source": [
    "with open (\"index.html\", \"w\", encoding=\"utf-8\") as file:\n",
    "    file.write(src)"
   ]
  },
  {
   "cell_type": "code",
   "execution_count": null,
   "metadata": {},
   "outputs": [],
   "source": [
    "with open(\"data/index.html\", encoding=\"utf-8\") as file:\n",
    "    src = file.read()\n",
    "\n",
    "\n",
    "soup = BeautifulSoup(src, \"lxml\")\n",
    "with open (\"data.csv\", \"w\", encoding=\"utf-8\") as file:\n",
    "    writer = csv.writer(file)"
   ]
  },
  {
   "cell_type": "code",
   "execution_count": null,
   "metadata": {},
   "outputs": [],
   "source": [
    "contain_news = {}\n",
    "contain_news = soup.find_all(\"article\")\n",
    "for i in range(4, len(contain_news)):\n",
    "    with open (\"data.csv\", \"a\", encoding=\"utf-8\") as file:\n",
    "        writer = csv.writer(file)\n",
    "        writer.writerow(\n",
    "            (\n",
    "                contain_news[i].get_text(),\n",
    "                \n",
    "\n",
    "            )\n",
    "        )\n",
    "\n"
   ]
  },
  {
   "cell_type": "code",
   "execution_count": null,
   "metadata": {},
   "outputs": [],
   "source": [
    "from bs4 import BeautifulSoup\n",
    "import requests\n",
    "import csv\n",
    "from selenium import webdriver\n",
    "import time\n",
    "driver = webdriver.Chrome(executable_path=r\"F:\\Desktop\\Python Work\\Parsing\\chromedriver.exe\")\n",
    "\n",
    "try:\n",
    "    driver.get(url=f\"https://ru.investing.com/commodities/gold-news/0\")\n",
    "    driver = webdriver.Chrome(executable_path=r\"F:\\Desktop\\Python Work\\Parsing\\chromedriver.exe\")\n",
    "    for it in range(1,100):\n",
    "        driver.get(url=f\"https://ru.investing.com/commodities/gold-news/{it}\")\n",
    "        time.sleep(5)\n",
    "        with open(f\"data/index.html\", \"w\", encoding=\"utf-8\") as file:\n",
    "            file.write(driver.page_source)\n",
    "        \n",
    "        with open(f\"data/index.html\", encoding=\"utf-8\") as file:\n",
    "            src = file.read()\n",
    "\n",
    "        soup = BeautifulSoup(src, \"lxml\")\n",
    "        contain_news = soup.find_all(\"a\", class_=\"title\")\n",
    "        data_news = soup.find_all(\"span\", class_=\"date\")\n",
    "\n",
    "        for i in range(3, len(contain_news)):\n",
    "                \n",
    "                with open (\"data.csv\", \"a\", encoding=\"utf-8\") as file:\n",
    "                    writer = csv.writer(file)\n",
    "                    writer.writerow(\n",
    "                        (\n",
    "                            \n",
    "                            contain_news[i].text.strip(),\n",
    "                            data_news[i-3].text.strip(),\n",
    "                        )\n",
    "                    )\n",
    "except Exception as ex:\n",
    "    print(ex)\n",
    "finally:\n",
    "    driver.close()\n",
    "    driver.quit()\n",
    "\n",
    "\n"
   ]
  },
  {
   "cell_type": "code",
   "execution_count": 9,
   "metadata": {},
   "outputs": [
    {
     "name": "stderr",
     "output_type": "stream",
     "text": [
      "C:\\Users\\maxve\\AppData\\Local\\Temp\\ipykernel_8220\\813935524.py:7: DeprecationWarning: executable_path has been deprecated, please pass in a Service object\n",
      "  driver = webdriver.Chrome(executable_path=r\"F:\\Desktop\\Python Work\\Parsing\\chromedriver.exe\")\n",
      "C:\\Users\\maxve\\AppData\\Local\\Temp\\ipykernel_8220\\813935524.py:12: DeprecationWarning: executable_path has been deprecated, please pass in a Service object\n",
      "  driver = webdriver.Chrome(executable_path=r\"F:\\Desktop\\Python Work\\Parsing\\chromedriver.exe\")\n"
     ]
    }
   ],
   "source": [
    "from bs4 import BeautifulSoup\n",
    "import requests\n",
    "import csv\n",
    "from selenium import webdriver\n",
    "import time\n",
    "import json\n",
    "driver = webdriver.Chrome(executable_path=r\"F:\\Desktop\\Python Work\\Parsing\\chromedriver.exe\")\n",
    "contain_news_json = {}\n",
    "\n",
    "try:\n",
    "    driver.get(url=f\"https://ru.investing.com/commodities/gold-news/0\")\n",
    "    driver = webdriver.Chrome(executable_path=r\"F:\\Desktop\\Python Work\\Parsing\\chromedriver.exe\")\n",
    "    for it in range(1,100):\n",
    "        driver.get(url=f\"https://ru.investing.com/commodities/gold-news/{it}\")\n",
    "        with open(f\"data/index.html\", \"w\", encoding=\"utf-8\") as file:\n",
    "            file.write(driver.page_source)\n",
    "        \n",
    "        with open(f\"data/index.html\", encoding=\"utf-8\") as file:\n",
    "            src = file.read()\n",
    "\n",
    "        soup = BeautifulSoup(src, \"lxml\")\n",
    "        contain_news = soup.find_all(\"a\", class_=\"title\")\n",
    "        data_news = soup.find_all(\"span\", class_=\"date\")\n",
    "        \n",
    "            \n",
    "        for i in range(3, len(contain_news)):\n",
    "                \n",
    "            item_data = data_news[i-3].text.strip().replace(u\"-\\xa0\", u\"\")\n",
    "            item_news = contain_news[i].text.strip().replace(u\"-\\xa0\", u\"\")\n",
    "            try:\n",
    "                contain_news_json[item_data] += f\" {item_news}\"   \n",
    "            except Exception as ex:\n",
    "                contain_news_json[item_data] = \"\"\n",
    "                contain_news_json[item_data] += f\" {item_news}\"       \n",
    "                    \n",
    "\n",
    "        with open(\"data.json\", \"w\", encoding=\"utf-8\") as file:\n",
    "            json.dump(contain_news_json , file, indent=4, ensure_ascii=False)\n",
    "except Exception as ex:\n",
    "    print(ex)\n",
    "finally:\n",
    "    driver.close()\n",
    "    driver.quit()"
   ]
  },
  {
   "cell_type": "code",
   "execution_count": null,
   "metadata": {},
   "outputs": [],
   "source": [
    "contain_news_json = {}"
   ]
  },
  {
   "cell_type": "code",
   "execution_count": null,
   "metadata": {},
   "outputs": [],
   "source": [
    "import json\n",
    "contain_news = soup.find_all(\"a\", class_=\"title\")\n",
    "data_news = soup.find_all(\"span\", class_=\"date\")\n",
    "\n",
    "for i in data_news:\n",
    "    contain_news_json[i.text.strip().replace(u\"-\\xa0\", u\"\")] = \"\"\n",
    "\n",
    "for i in range(3, len(contain_news)):\n",
    "    item_data = data_news[i-3].text.strip().replace(u\"-\\xa0\", u\"\")\n",
    "    item_news = contain_news[i].text.strip().replace(u\"-\\xa0\", u\"\")\n",
    "    contain_news_json[item_data] += f\"{item_news}\"\n",
    "    print(type(item_news))\n",
    "\n",
    "\n",
    "with open(\"data.json\", \"w\", encoding=\"utf-8\") as file:\n",
    "    json.dump(contain_news_json , file, indent=4, ensure_ascii=False)\n"
   ]
  }
 ],
 "metadata": {
  "kernelspec": {
   "display_name": ".venv",
   "language": "python",
   "name": "python3"
  },
  "language_info": {
   "codemirror_mode": {
    "name": "ipython",
    "version": 3
   },
   "file_extension": ".py",
   "mimetype": "text/x-python",
   "name": "python",
   "nbconvert_exporter": "python",
   "pygments_lexer": "ipython3",
   "version": "3.10.9"
  },
  "orig_nbformat": 4
 },
 "nbformat": 4,
 "nbformat_minor": 2
}
